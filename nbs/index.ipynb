{
 "cells": [
  {
   "cell_type": "code",
   "execution_count": null,
   "metadata": {},
   "outputs": [],
   "source": [
    "#hide\n",
    "from rxnfp.core import *"
   ]
  },
  {
   "cell_type": "markdown",
   "metadata": {},
   "source": [
    "# RXNFP - chemical reaction fingerprints\n",
    "\n",
    "> This library generates chemical reaction fingerprints from reaction SMILES"
   ]
  },
  {
   "cell_type": "markdown",
   "metadata": {},
   "source": [
    "## Install"
   ]
  },
  {
   "cell_type": "markdown",
   "metadata": {},
   "source": [
    "\n",
    "For all installations, we recommend using `conda` to get the necessary `rdkit` and `tmap` dependencies:\n",
    "\n",
    "### From github\n",
    "```console\n",
    "conda create -n rxnfp python=3.6 -y\n",
    "conda activate rxnfp\n",
    "conda install -c rdkit rdkit\n",
    "conda install -c tmap tmap\n",
    "pip install -e .\n",
    "```"
   ]
  },
  {
   "cell_type": "markdown",
   "metadata": {},
   "source": [
    "## How to use\n",
    "\n",
    "Compute a fingerprint from a reaction SMILES\n",
    "```python\n",
    "```"
   ]
  },
  {
   "cell_type": "code",
   "execution_count": null,
   "metadata": {},
   "outputs": [
    {
     "name": "stdout",
     "output_type": "stream",
     "text": [
      "256\n",
      "[-2.0174953937530518, 1.7602033615112305, -1.3323537111282349, -1.1095019578933716, 1.2254549264907837]\n"
     ]
    }
   ],
   "source": [
    "from rxnfp.transformer_fingerprints import (\n",
    "    RXNBERTFingerprintGenerator, get_default_model_and_tokenizer, generate_fingerprints\n",
    ")\n",
    "\n",
    "model, tokenizer = get_default_model_and_tokenizer()\n",
    "\n",
    "rxnfp_generator = RXNBERTFingerprintGenerator(model, tokenizer)\n",
    "\n",
    "example_rxn = \"Nc1cccc2cnccc12.O=C(O)c1cc([N+](=O)[O-])c(Sc2c(Cl)cncc2Cl)s1>>O=C(Nc1cccc2cnccc12)c1cc([N+](=O)[O-])c(Sc2c(Cl)cncc2Cl)s1\"\n",
    "\n",
    "fp = rxnfp_generator.convert(example_rxn)\n",
    "print(len(fp))\n",
    "print(fp[:5])"
   ]
  },
  {
   "cell_type": "markdown",
   "metadata": {},
   "source": [
    "Or for a list of reactions:"
   ]
  },
  {
   "cell_type": "code",
   "execution_count": null,
   "metadata": {},
   "outputs": [
    {
     "name": "stdout",
     "output_type": "stream",
     "text": [
      "2 256\n"
     ]
    }
   ],
   "source": [
    "rxns = [example_rxn, example_rxn]\n",
    "fps = rxnfp_generator.convert_batch(rxns)\n",
    "print(len(fps), len(fps[0]))"
   ]
  },
  {
   "cell_type": "markdown",
   "metadata": {},
   "source": [
    "## Reaction Atlas\n",
    "\n",
    "### Pistachio\n",
    "The fingerprints can be used to map the space of chemical reactions:\n",
    "\n",
    "\n",
    "\n",
    "<div style=\"text-align: center\">\n",
    "<img src='images/annotated_atlas.jpg' width='1000'>\n",
    "<p style=\"text-align: center;\"> <b>Figure:</b> Annotated Atlas of the Pistachio test set generated with TMAP (https://tmap.gdb.tools). </p>\n",
    "</div>\n",
    "\n",
    "\n",
    "### Schneider 50k set\n",
    "\n",
    "In the notebooks, we show how to generate an interative reaction atlas for the Schneider 50k set. The end result is similar to this **[interactive Reaction Atlas](./tmaps/tmap_ft_10k.html)**.\n",
    "\n",
    "Where you will find different reaction properties highlighted in the different layers:\n",
    "\n",
    "<div style=\"text-align: center\">\n",
    "<img src='images/tmap_properties.jpg' width='800'>\n",
    "<p style=\"text-align: center;\"> <b>Figure:</b> Reaction atlas of 50k data set with different properties highlighted. </p>\n",
    "</div>"
   ]
  },
  {
   "cell_type": "markdown",
   "metadata": {},
   "source": [
    "## Citation \n",
    "\n",
    "```\n",
    "@article{Schwaller2019rxnfp,\n",
    "author = \"Philippe Schwaller and Daniel Probst and Alain C. Vaucher and Vishnu H Nair and Teodoro Laino and Jean-Louis Reymond\",\n",
    "title = \"{Data-Driven Chemical Reaction Classification, Fingerprinting and Clustering using Attention-Based Neural Networks}\",\n",
    "year = \"2019\",\n",
    "month = \"12\",\n",
    "url = \"https://chemrxiv.org/articles/preprint/Data-Driven_Chemical_Reaction_Classification_with_Attention-Based_Neural_Networks/9897365\",\n",
    "doi = \"10.26434/chemrxiv.9897365.v2\"\n",
    "}\n",
    "```\n",
    "\n",
    "RXNFP has been developed in a collaboration between IBM Research Europe and the [Reymond group](http://gdb.unibe.ch) at the University of Bern. The classification models are used on the [RXN for Chemistry](https://rxn.res.ibm.com) platform."
   ]
  }
 ],
 "metadata": {
  "kernelspec": {
   "display_name": "Python 3",
   "language": "python",
   "name": "python3"
  }
 },
 "nbformat": 4,
 "nbformat_minor": 2
}

{
 "cells": [
  {
   "cell_type": "markdown",
   "metadata": {},
   "source": [
    "# Fine-tune a reaction BERT for classification\n",
    "\n",
    "> Train a reaction BERT on the USPTO 1k TPL data set. The task is to predict the 1 out of 1000 template classes given the chemical reaction SMILES. The data set is strongly imbalanced and contains noisy reactions."
   ]
  },
  {
   "cell_type": "code",
   "execution_count": null,
   "metadata": {},
   "outputs": [],
   "source": [
    "# optional\n",
    "import os\n",
    "import numpy as np\n",
    "import pandas as pd\n",
    "import torch\n",
    "import logging\n",
    "import random\n",
    "import pkg_resources\n",
    "import sklearn\n",
    "\n",
    "from rxnfp.models import SmilesClassificationModel\n",
    "logger = logging.getLogger(__name__)"
   ]
  },
  {
   "cell_type": "markdown",
   "metadata": {},
   "source": [
    "## Track the training \n",
    "\n",
    "We will be using wandb to keep track of our training. You can use the an account on [wandb](https://www.wandb.com) or create an own instance following the instruction in the [documentation](https://docs.wandb.com/self-hosted).\n",
    "\n",
    "If you then create an `.env` file in the root folder and specify the `WANDB_API_KEY=` (and the `WANDB_BASE_URL=`), you can use dotenv to load those enviroment variables."
   ]
  },
  {
   "cell_type": "code",
   "execution_count": null,
   "metadata": {},
   "outputs": [],
   "source": [
    "# optional\n",
    "from dotenv import load_dotenv, find_dotenv\n",
    "load_dotenv(find_dotenv())"
   ]
  },
  {
   "cell_type": "markdown",
   "metadata": {},
   "source": [
    "## Loading the training data "
   ]
  },
  {
   "cell_type": "code",
   "execution_count": null,
   "metadata": {},
   "outputs": [],
   "source": [
    "# optional\n",
    "df = pd.read_csv('../data/uspto_1k_TPL/data_set/uspto_1k_TPL_train_valid.tsv.gzip', compression='gzip', sep='\\t', index_col=0)\n",
    "\n",
    "df[['canonical_rxn', 'labels']].head()"
   ]
  },
  {
   "cell_type": "markdown",
   "metadata": {},
   "source": [
    "## Make splits\n",
    "The data was already shuffled. We take 10% as test set and a small validation set of 604 reactions to keep track of the performance during training."
   ]
  },
  {
   "cell_type": "code",
   "execution_count": null,
   "metadata": {},
   "outputs": [],
   "source": [
    "# optional\n",
    "train_df = df.iloc[:400000]\n",
    "eval_df = df[['canonical_rxn', 'labels']].iloc[400000:400604]\n",
    "eval_df.columns = ['text', 'labels']\n",
    "\n",
    "all_train_reactions = train_df.canonical_rxn_with_fragment_info[train_df.canonical_rxn_with_fragment_info!=train_df.canonical_rxn].values.tolist() + train_df.canonical_rxn.values.tolist()\n",
    "corresponding_labels = train_df[train_df.canonical_rxn_with_fragment_info!=train_df.canonical_rxn].labels.values.tolist() + train_df.labels.values.tolist()\n",
    "final_train_df = pd.DataFrame({'text': all_train_reactions, 'labels': corresponding_labels })\n",
    "final_train_df = final_train_df.sample(frac=1., random_state=42)"
   ]
  },
  {
   "cell_type": "code",
   "execution_count": null,
   "metadata": {},
   "outputs": [],
   "source": [
    "final_train_df.shape"
   ]
  },
  {
   "cell_type": "markdown",
   "metadata": {},
   "source": [
    "## Load model pretrained on a Masked Language Modeling task and train\n",
    "\n",
    "This will currently only work if you have installed the library from the github repo with `pip install -e .`,\n",
    "as the `models/transformers/bert_mlm_1k_tpl` and `models/transformers/bert_class_1k_tpl` model are not included in the pip package.\n"
   ]
  },
  {
   "cell_type": "code",
   "execution_count": null,
   "metadata": {},
   "outputs": [],
   "source": [
    "# optional\n",
    "model_args = {\n",
    "    'wandb_project': 'nmi_uspto_1000_class', 'num_train_epochs': 5, 'overwrite_output_dir': True,\n",
    "    'learning_rate': 2e-5, 'gradient_accumulation_steps': 1,\n",
    "    'regression': False, \"num_labels\":  len(final_train_df.labels.unique()), \"fp16\": False,\n",
    "    \"evaluate_during_training\": True, 'manual_seed': 42,\n",
    "    \"max_seq_length\": 512, \"train_batch_size\": 8,\"warmup_ratio\": 0.00,\n",
    "    'output_dir': '../out/bert_class_1k_tpl', \n",
    "    'thread_count': 8,\n",
    "    }"
   ]
  },
  {
   "cell_type": "code",
   "execution_count": null,
   "metadata": {},
   "outputs": [],
   "source": [
    "# optional\n",
    "model_path =  pkg_resources.resource_filename(\"rxnfp\", \"models/transformers/bert_mlm_1k_tpl\")\n",
    "model = SmilesClassificationModel(\"bert\", model_path, num_labels=len(final_train_df.labels.unique()), args=model_args, use_cuda=torch.cuda.is_available())\n",
    "model.train_model(final_train_df, eval_df=eval_df, acc=sklearn.metrics.accuracy_score, mcc=sklearn.metrics.matthews_corrcoef)\n",
    "\n",
    "\n"
   ]
  },
  {
   "cell_type": "markdown",
   "metadata": {},
   "source": [
    "## Load trained model (that we've trained using this script)"
   ]
  },
  {
   "cell_type": "code",
   "execution_count": null,
   "metadata": {},
   "outputs": [],
   "source": [
    "# optional\n",
    "train_model_path =  pkg_resources.resource_filename(\"rxnfp\", \"models/transformers/bert_class_1k_tpl\")\n",
    "\n",
    "model = SmilesClassificationModel(\"bert\", train_model_path, use_cuda=torch.cuda.is_available())"
   ]
  },
  {
   "cell_type": "markdown",
   "metadata": {},
   "source": [
    "## Predictions on test set "
   ]
  },
  {
   "cell_type": "code",
   "execution_count": null,
   "metadata": {},
   "outputs": [],
   "source": [
    "# optional\n",
    "y_preds = model.predict(test_df.text.values)"
   ]
  }
 ],
 "metadata": {
  "kernelspec": {
   "display_name": "Python 3",
   "language": "python",
   "name": "python3"
  },
  "language_info": {
   "codemirror_mode": {
    "name": "ipython",
    "version": 3
   },
   "file_extension": ".py",
   "mimetype": "text/x-python",
   "name": "python",
   "nbconvert_exporter": "python",
   "pygments_lexer": "ipython3",
   "version": "3.6.13"
  }
 },
 "nbformat": 4,
 "nbformat_minor": 4
}
